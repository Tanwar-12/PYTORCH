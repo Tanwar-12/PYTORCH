{
 "cells": [
  {
   "cell_type": "markdown",
   "metadata": {
    "id": "zNqPNlYylluR"
   },
   "source": [
    "#  **PyTorch Going Modular Exercises**\n",
    "\n"
   ]
  },
  {
   "cell_type": "markdown",
   "metadata": {
    "id": "bicbWSrPmfTU"
   },
   "source": [
    "## 1. Turn the code to get the data (from section 1. Get Data) into a Python script, such as `get_data.py`.\n",
    "\n",
    "* When you run the script using `python get_data.py` it should check if the data already exists and skip downloading if it does.\n",
    "* If the data download is successful, you should be able to access the `pizza_steak_sushi` images from the `data` directory."
   ]
  },
  {
   "cell_type": "code",
   "execution_count": null,
   "metadata": {
    "id": "r0BCn1XIYZ8c"
   },
   "outputs": [],
   "source": [
    "# YOUR CODE HERE"
   ]
  },
  {
   "cell_type": "code",
   "execution_count": null,
   "metadata": {
    "id": "_LrUOIC-YOP9"
   },
   "outputs": [],
   "source": [
    "# Example running of get_data.py\n",
    "!python get_data.py"
   ]
  },
  {
   "cell_type": "markdown",
   "metadata": {
    "id": "zjyn7LU3mvkR"
   },
   "source": [
    "## 2. Use [Python's `argparse` module](https://docs.python.org/3/library/argparse.html) to be able to send the `train.py` custom hyperparameter values for training procedures.\n",
    "* Add an argument flag for using a different:\n",
    "  * Training/testing directory\n",
    "  * Learning rate\n",
    "  * Batch size\n",
    "  * Number of epochs to train for\n",
    "  * Number of hidden units in the TinyVGG model\n",
    "    * Keep the default values for each of the above arguments as what they already are (as in notebook 05).\n",
    "* For example, you should be able to run something similar to the following line to train a TinyVGG model with a learning rate of 0.003 and a batch size of 64 for 20 epochs: `python train.py --learning_rate 0.003 batch_size 64 num_epochs 20`.\n",
    "* **Note:** Since `train.py` leverages the other scripts we created in section 05, such as, `model_builder.py`, `utils.py` and `engine.py`, you'll have to make sure they're available to use too. You can find these in the [`going_modular` folder on the course GitHub](https://github.com/mrdbourke/pytorch-deep-learning/tree/main/going_modular/going_modular). "
   ]
  },
  {
   "cell_type": "code",
   "execution_count": null,
   "metadata": {
    "id": "MKNDUp45YaW-"
   },
   "outputs": [],
   "source": [
    "# YOUR CODE HERE"
   ]
  },
  {
   "cell_type": "code",
   "execution_count": null,
   "metadata": {
    "id": "LzaJl39lC40N"
   },
   "outputs": [],
   "source": [
    "# Example running of train.py\n",
    "!python train.py --num_epochs 5 --batch_size 128 --hidden_units 128 --learning_rate 0.0003"
   ]
  },
  {
   "cell_type": "markdown",
   "metadata": {
    "id": "P2g6EEYvm-46"
   },
   "source": [
    "## 3. Create a Python script to predict (such as `predict.py`) on a target image given a file path with a saved model.\n",
    "\n",
    "* For example, you should be able to run the command `python predict.py some_image.jpeg` and have a trained PyTorch model predict on the image and return its prediction.\n",
    "* To see example prediction code, check out the [predicting on a custom image section in notebook 04](https://www.learnpytorch.io/04_pytorch_custom_datasets/#113-putting-custom-image-prediction-together-building-a-function). \n",
    "* You may also have to write code to load in a trained model."
   ]
  },
  {
   "cell_type": "code",
   "execution_count": null,
   "metadata": {
    "id": "HU7W6VZfYawP"
   },
   "outputs": [],
   "source": [
    "# YOUR CODE HERE"
   ]
  },
  {
   "cell_type": "code",
   "execution_count": null,
   "metadata": {
    "id": "Zcvw9sitIn6r"
   },
   "outputs": [],
   "source": [
    "# Example running of predict.py \n",
    "!python predict.py --image data/pizza_steak_sushi/test/sushi/175783.jpg"
   ]
  }
 ],
 "metadata": {
  "accelerator": "GPU",
  "colab": {
   "authorship_tag": "ABX9TyNcX0JATB1YsaAFGNe0TGWq",
   "collapsed_sections": [],
   "include_colab_link": true,
   "name": "05_pytorch_going_modular_exercise_template.ipynb",
   "provenance": []
  },
  "kernelspec": {
   "display_name": "Python 3 (ipykernel)",
   "language": "python",
   "name": "python3"
  },
  "language_info": {
   "codemirror_mode": {
    "name": "ipython",
    "version": 3
   },
   "file_extension": ".py",
   "mimetype": "text/x-python",
   "name": "python",
   "nbconvert_exporter": "python",
   "pygments_lexer": "ipython3",
   "version": "3.11.7"
  }
 },
 "nbformat": 4,
 "nbformat_minor": 4
}
